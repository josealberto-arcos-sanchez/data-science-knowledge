{
 "cells": [
  {
   "cell_type": "markdown",
   "metadata": {},
   "source": [
    "# Text Processing\n",
    "\n",
    "## Capturing Text Data\n",
    "\n",
    "### Plain Text"
   ]
  },
  {
   "cell_type": "code",
   "execution_count": 1,
   "metadata": {},
   "outputs": [
    {
     "name": "stdout",
     "output_type": "stream",
     "text": [
      "Hieroglyphic writing dates from c. 3000 BC, and is composed of hundreds of symbols. A hieroglyph can represent a word, a sound, or a silent determinative; and the same symbol can serve different purposes in different contexts. Hieroglyphs were a formal script, used on stone monuments and in tombs, that could be as detailed as individual works of art.\n",
      "\n"
     ]
    }
   ],
   "source": [
    "import os\n",
    "\n",
    "# Read in a plain text file\n",
    "with open(os.path.join(\"data\", \"hieroglyph.txt\"), \"r\") as f:\n",
    "    text = f.read()\n",
    "    print(text)"
   ]
  },
  {
   "cell_type": "markdown",
   "metadata": {},
   "source": [
    "### Tabular Data"
   ]
  },
  {
   "cell_type": "code",
   "execution_count": 2,
   "metadata": {
    "scrolled": true
   },
   "outputs": [
    {
     "data": {
      "text/html": [
       "<div>\n",
       "<style>\n",
       "    .dataframe thead tr:only-child th {\n",
       "        text-align: right;\n",
       "    }\n",
       "\n",
       "    .dataframe thead th {\n",
       "        text-align: left;\n",
       "    }\n",
       "\n",
       "    .dataframe tbody tr th {\n",
       "        vertical-align: top;\n",
       "    }\n",
       "</style>\n",
       "<table border=\"1\" class=\"dataframe\">\n",
       "  <thead>\n",
       "    <tr style=\"text-align: right;\">\n",
       "      <th></th>\n",
       "      <th>publisher</th>\n",
       "      <th>title</th>\n",
       "    </tr>\n",
       "  </thead>\n",
       "  <tbody>\n",
       "    <tr>\n",
       "      <th>0</th>\n",
       "      <td>Livemint</td>\n",
       "      <td>fed's charles plosser sees high bar for change...</td>\n",
       "    </tr>\n",
       "    <tr>\n",
       "      <th>1</th>\n",
       "      <td>IFA Magazine</td>\n",
       "      <td>us open: stocks fall after fed official hints ...</td>\n",
       "    </tr>\n",
       "    <tr>\n",
       "      <th>2</th>\n",
       "      <td>IFA Magazine</td>\n",
       "      <td>fed risks falling 'behind the curve', charles ...</td>\n",
       "    </tr>\n",
       "    <tr>\n",
       "      <th>3</th>\n",
       "      <td>Moneynews</td>\n",
       "      <td>fed's plosser: nasty weather has curbed job gr...</td>\n",
       "    </tr>\n",
       "    <tr>\n",
       "      <th>4</th>\n",
       "      <td>NASDAQ</td>\n",
       "      <td>plosser: fed may have to accelerate tapering pace</td>\n",
       "    </tr>\n",
       "  </tbody>\n",
       "</table>\n",
       "</div>"
      ],
      "text/plain": [
       "      publisher                                              title\n",
       "0      Livemint  fed's charles plosser sees high bar for change...\n",
       "1  IFA Magazine  us open: stocks fall after fed official hints ...\n",
       "2  IFA Magazine  fed risks falling 'behind the curve', charles ...\n",
       "3     Moneynews  fed's plosser: nasty weather has curbed job gr...\n",
       "4        NASDAQ  plosser: fed may have to accelerate tapering pace"
      ]
     },
     "execution_count": 2,
     "metadata": {},
     "output_type": "execute_result"
    }
   ],
   "source": [
    "import pandas as pd\n",
    "\n",
    "# Extract text column from a dataframe\n",
    "df = pd.read_csv(os.path.join(\"data\", \"news.csv\"))\n",
    "df.head()[['publisher', 'title']]\n",
    "\n",
    "# Convert text column to lowercase\n",
    "df['title'] = df['title'].str.lower()\n",
    "df.head()[['publisher', 'title']]"
   ]
  },
  {
   "cell_type": "markdown",
   "metadata": {},
   "source": [
    "### Online Resource"
   ]
  },
  {
   "cell_type": "code",
   "execution_count": 3,
   "metadata": {
    "scrolled": true
   },
   "outputs": [
    {
     "name": "stdout",
     "output_type": "stream",
     "text": [
      "{\n",
      "    \"success\": {\n",
      "        \"total\": 1\n",
      "    },\n",
      "    \"contents\": {\n",
      "        \"quotes\": [\n",
      "            {\n",
      "                \"quote\": \"Where there is ruin, there is hope for a treasure.\",\n",
      "                \"length\": \"50\",\n",
      "                \"author\": \"Rumi\",\n",
      "                \"tags\": [\n",
      "                    \"failure\",\n",
      "                    \"inspire\",\n",
      "                    \"learning-from-failure\"\n",
      "                ],\n",
      "                \"category\": \"inspire\",\n",
      "                \"date\": \"2018-12-02\",\n",
      "                \"permalink\": \"https://theysaidso.com/quote/dPKsui4sQnQqgMnXHLKtfweF/rumi-where-there-is-ruin-there-is-hope-for-a-treasure\",\n",
      "                \"title\": \"Inspiring Quote of the day\",\n",
      "                \"background\": \"https://theysaidso.com/img/bgs/man_on_the_mountain.jpg\",\n",
      "                \"id\": \"dPKsui4sQnQqgMnXHLKtfweF\"\n",
      "            }\n",
      "        ],\n",
      "        \"copyright\": \"2017-19 theysaidso.com\"\n",
      "    }\n",
      "}\n",
      "Where there is ruin, there is hope for a treasure. \n",
      "-- Rumi\n"
     ]
    }
   ],
   "source": [
    "import requests\n",
    "import json\n",
    "\n",
    "# Fetch data from a REST API\n",
    "r = requests.get(\n",
    "    \"https://quotes.rest/qod.json\")\n",
    "res = r.json()\n",
    "print(json.dumps(res, indent=4))\n",
    "\n",
    "# Extract relevant object and field\n",
    "q = res[\"contents\"][\"quotes\"][0]\n",
    "print(q[\"quote\"], \"\\n--\", q[\"author\"])"
   ]
  },
  {
   "cell_type": "markdown",
   "metadata": {},
   "source": [
    "## Cleaning"
   ]
  },
  {
   "cell_type": "code",
   "execution_count": 4,
   "metadata": {
    "scrolled": true
   },
   "outputs": [
    {
     "name": "stdout",
     "output_type": "stream",
     "text": [
      "<html op=\"news\"><head><meta name=\"referrer\" content=\"origin\"><meta name=\"viewport\" content=\"width=device-width, initial-scale=1.0\"><link rel=\"stylesheet\" type=\"text/css\" href=\"news.css?3t77tvpPRJ1qN05oonrE\">\n",
      "            <link rel=\"shortcut icon\" href=\"favicon.ico\">\n",
      "          <link rel=\"alternate\" type=\"application/rss+xml\" title=\"RSS\" href=\"rss\">\n",
      "        <title>Hacker News</title></head><body><center><table id=\"hnmain\" border=\"0\" cellpadding=\"0\" cellspacing=\"0\" width=\"85%\" bgcolor=\"#f6f6ef\">\n",
      "        <tr><td bgcolor=\"#ff6600\"><table border=\"0\" cellpadding=\"0\" cellspacing=\"0\" width=\"100%\" style=\"padding:2px\"><tr><td style=\"width:18px;padding-right:4px\"><a href=\"https://news.ycombinator.com\"><img src=\"y18.gif\" width=\"18\" height=\"18\" style=\"border:1px white solid;\"></a></td>\n",
      "                  <td style=\"line-height:12pt; height:10px;\"><span class=\"pagetop\"><b class=\"hnname\"><a href=\"news\">Hacker News</a></b>\n",
      "              <a href=\"newest\">new</a> | <a href=\"newcomments\">comments</a> | <a href=\"show\">show</a> | <a href=\"ask\">ask</a> | <a href=\"jobs\">jobs</a> | <a href=\"submit\">submit</a>            </span></td><td style=\"text-align:right;padding-right:4px;\"><span class=\"pagetop\">\n",
      "                              <a href=\"login?goto=news\">login</a>\n",
      "                          </span></td>\n",
      "              </tr></table></td></tr>\n",
      "<tr style=\"height:10px\"></tr><tr><td><table border=\"0\" cellpadding=\"0\" cellspacing=\"0\" class=\"itemlist\">\n",
      "              <tr class='athing' id='18579076'>\n",
      "      <td align=\"right\" valign=\"top\" class=\"title\"><span class=\"rank\">1.</span></td>      <td valign=\"top\" class=\"votelinks\"><center><a id='up_18579076' href='vote?id=18579076&amp;how=up&amp;goto=news'><div class='votearrow' title='upvote'></div></a></center></td><td class=\"title\"><a href=\"https://jeremykun.com/2018/12/01/a-programmers-introduction-to-mathematics/\" class=\"storylink\">A Programmer's Introduction to Mathematics</a><span class=\"sitebit comhead\"> (<a href=\"from?site=jeremykun.com\"><span class=\"sitestr\">jeremykun.com</span></a>)</span></td></tr><tr><td colspan=\"2\"></td><td class=\"subtext\">\n",
      "        <span class=\"score\" id=\"score_18579076\">279 points</span> by <a href=\"user?id=chocolateboy\" class=\"hnuser\">chocolateboy</a> <span class=\"age\"><a href=\"item?id=18579076\">5 hours ago</a></span> <span id=\"unv_18579076\"></span> | <a href=\"hide?id=18579076&amp;goto=news\">hide</a> | <a href=\"item?id=18579076\">73&nbsp;comments</a>              </td></tr>\n",
      "      <tr class=\"spacer\" style=\"height:5px\"></tr>\n",
      "                <tr class='athing' id='18571380'>\n",
      "      <td align=\"right\" valign=\"top\" class=\"title\"><span class=\"rank\">2.</span></td>      <td valign=\"top\" class=\"votelinks\"><center><a id='up_18571380' href='vote?id=18571380&amp;how=up&amp;goto=news'><div class='votearrow' title='upvote'></div></a></center></td><td class=\"title\"><a href=\"https://qz.com/1480192/monarch-populations-in-the-us-west-are-down-86-this-year/\" class=\"storylink\">Monarch butterfly populations in U.S. west are down an order of magnitude</a><span class=\"sitebit comhead\"> (<a href=\"from?site=qz.com\"><span class=\"sitestr\">qz.com</span></a>)</span></td></tr><tr><td colspan=\"2\"></td><td class=\"subtext\">\n",
      "        <span class=\"score\" id=\"score_18571380\">112 points</span> by <a href=\"user?id=prostoalex\" class=\"hnuser\">prostoalex</a> <span class=\"age\"><a href=\"item?id=18571380\">4 hours ago</a></span> <span id=\"unv_18571380\"></span> | <a href=\"hide?id=18571380&amp;goto=news\">hide</a> | <a href=\"item?id=18571380\">26&nbsp;comments</a>              </td></tr>\n",
      "      <tr class=\"spacer\" style=\"height:5px\"></tr>\n",
      "                <tr class='athing' id='18577079'>\n",
      "      <td align=\"right\" valign=\"top\" class=\"title\"><span class=\"rank\">3.</span></td>      <td valign=\"top\" class=\"votelinks\"><center><a id='up_18577079' href='vote?id=18577079&amp;how=up&amp;goto=news'><div class='votearrow' title='upvote'></div></a></center></td><td class=\"title\"><a href=\"https://www.theatlantic.com/science/archive/2018/11/psychologys-replication-crisis-real/576223/\" class=\"storylink\">Psychology’s Replication Crisis Is Real</a><span class=\"sitebit comhead\"> (<a href=\"from?site=theatlantic.com\"><span class=\"sitestr\">theatlantic.com</span></a>)</span></td></tr><tr><td colspan=\"2\"></td><td class=\"subtext\">\n",
      "        <span class=\"score\" id=\"score_18577079\">418 points</span> by <a href=\"user?id=zwieback\" class=\"hnuser\">zwieback</a> <span class=\"age\"><a href=\"item?id=18577079\">12 hours ago</a></span> <span id=\"unv_18577079\"></span> | <a href=\"hide?id=18577079&amp;goto=news\">hide</a> | <a href=\"item?id=18577079\">230&nbsp;comments</a>              </td></tr>\n",
      "      <tr class=\"spacer\" style=\"height:5px\"></tr>\n",
      "                <tr class='athing' id='18579114'>\n",
      "      <td align=\"right\" valign=\"top\" class=\"title\"><span class=\"rank\">4.</span></td>      <td valign=\"top\" class=\"votelinks\"><center><a id='up_18579114' href='vote?id=18579114&amp;how=up&amp;goto=news'><div class='votearrow' title='upvote'></div></a></center></td><td class=\"title\"><a href=\"https://www.nytimes.com/2018/11/30/science/animal-intelligence-octopus-cephalopods.html\" class=\"storylink\">The Octopus Is Smart as Heck, But Why?</a><span class=\"sitebit comhead\"> (<a href=\"from?site=nytimes.com\"><span class=\"sitestr\">nytimes.com</span></a>)</span></td></tr><tr><td colspan=\"2\"></td><td class=\"subtext\">\n",
      "        <span class=\"score\" id=\"score_18579114\">91 points</span> by <a href=\"user?id=dnetesn\" class=\"hnuser\">dnetesn</a> <span class=\"age\"><a href=\"item?id=18579114\">5 hours ago</a></span> <span id=\"unv_18579114\"></span> | <a href=\"hide?id=18579114&amp;goto=news\">hide</a> | <a href=\"item?id=18579114\">37&nbsp;comments</a>              </td></tr>\n",
      "      <tr class=\"spacer\" style=\"height:5px\"></tr>\n",
      "                <tr class='athing' id='18577830'>\n",
      "      <td align=\"right\" valign=\"top\" class=\"title\"><span class=\"rank\">5.</span></td>      <td valign=\"top\" class=\"votelinks\"><center><a id='up_18577830' href='vote?id=18577830&amp;how=up&amp;goto=news'><div class='votearrow' title='upvote'></div></a></center></td><td class=\"title\"><a href=\"https://www.newsshooter.com/2018/12/01/8k-is-now-being-broadcast-in-japan/\" class=\"storylink\">8K is now being broadcast in Japan</a><span class=\"sitebit comhead\"> (<a href=\"from?site=newsshooter.com\"><span class=\"sitestr\">newsshooter.com</span></a>)</span></td></tr><tr><td colspan=\"2\"></td><td class=\"subtext\">\n",
      "        <span class=\"score\" id=\"score_18577830\">203 points</span> by <a href=\"user?id=kungfudoi\" class=\"hnuser\">kungfudoi</a> <span class=\"age\"><a href=\"item?id=18577830\">9 hours ago</a></span> <span id=\"unv_18577830\"></span> | <a href=\"hide?id=18577830&amp;goto=news\">hide</a> | <a href=\"item?id=18577830\">263&nbsp;comments</a>              </td></tr>\n",
      "      <tr class=\"spacer\" style=\"height:5px\"></tr>\n",
      "                <tr class='athing' id='18574302'>\n",
      "      <td align=\"right\" valign=\"top\" class=\"title\"><span class=\"rank\">6.</span></td>      <td valign=\"top\" class=\"votelinks\"><center><a id='up_18574302' href='vote?id=18574302&amp;how=up&amp;goto=news'><div class='votearrow' title='upvote'></div></a></center></td><td class=\"title\"><a href=\"https://www.wsj.com/articles/new-parents-complain-amazon-ads-are-deceptive-1543417201\" class=\"storylink\">New Parents Complain Amazon Baby-Registry Ads Are Deceptive</a><span class=\"sitebit comhead\"> (<a href=\"from?site=wsj.com\"><span class=\"sitestr\">wsj.com</span></a>)</span></td></tr><tr><td colspan=\"2\"></td><td class=\"subtext\">\n",
      "        <span class=\"score\" id=\"score_18574302\">86 points</span> by <a href=\"user?id=mwnivek\" class=\"hnuser\">mwnivek</a> <span class=\"age\"><a href=\"item?id=18574302\">6 hours ago</a></span> <span id=\"unv_18574302\"></span> | <a href=\"hide?id=18574302&amp;goto=news\">hide</a> | <a href=\"item?id=18574302\">36&nbsp;comments</a>              </td></tr>\n",
      "      <tr class=\"spacer\" style=\"height:5px\"></tr>\n",
      "                <tr class='athing' id='18578720'>\n",
      "      <td align=\"right\" valign=\"top\" class=\"title\"><span class=\"rank\">7.</span></td>      <td valign=\"top\" class=\"votelinks\"><center><a id='up_18578720' href='vote?id=18578720&amp;how=up&amp;goto=news'><div class='votearrow' title='upvote'></div></a></center></td><td class=\"title\"><a href=\"https://www.jamiefuller.com/portal/\" class=\"storylink\">Portal for the C64</a><span class=\"sitebit comhead\"> (<a href=\"from?site=jamiefuller.com\"><span class=\"sitestr\">jamiefuller.com</span></a>)</span></td></tr><tr><td colspan=\"2\"></td><td class=\"subtext\">\n",
      "        <span class=\"score\" id=\"score_18578720\">97 points</span> by <a href=\"user?id=bane\" class=\"hnuser\">bane</a> <span class=\"age\"><a href=\"item?id=18578720\">6 hours ago</a></span> <span id=\"unv_18578720\"></span> | <a href=\"hide?id=18578720&amp;goto=news\">hide</a> | <a href=\"item?id=18578720\">19&nbsp;comments</a>              </td></tr>\n",
      "      <tr class=\"spacer\" style=\"height:5px\"></tr>\n",
      "                <tr class='athing' id='18576680'>\n",
      "      <td align=\"right\" valign=\"top\" class=\"title\"><span class=\"rank\">8.</span></td>      <td valign=\"top\" class=\"votelinks\"><center><a id='up_18576680' href='vote?id=18576680&amp;how=up&amp;goto=news'><div class='votearrow' title='upvote'></div></a></center></td><td class=\"title\"><a href=\"https://redditblog.com/2018/11/28/the-eu-copyright-directive-what-redditors-in-europe-need-to-know/\" class=\"storylink\">The EU Copyright Directive: What Redditors in Europe Need to Know</a><span class=\"sitebit comhead\"> (<a href=\"from?site=redditblog.com\"><span class=\"sitestr\">redditblog.com</span></a>)</span></td></tr><tr><td colspan=\"2\"></td><td class=\"subtext\">\n",
      "        <span class=\"score\" id=\"score_18576680\">282 points</span> by <a href=\"user?id=DyslexicAtheist\" class=\"hnuser\">DyslexicAtheist</a> <span class=\"age\"><a href=\"item?id=18576680\">13 hours ago</a></span> <span id=\"unv_18576680\"></span> | <a href=\"hide?id=18576680&amp;goto=news\">hide</a> | <a href=\"item?id=18576680\">231&nbsp;comments</a>              </td></tr>\n",
      "      <tr class=\"spacer\" style=\"height:5px\"></tr>\n",
      "                <tr class='athing' id='18580224'>\n",
      "      <td align=\"right\" valign=\"top\" class=\"title\"><span class=\"rank\">9.</span></td>      <td valign=\"top\" class=\"votelinks\"><center><a id='up_18580224' href='vote?id=18580224&amp;how=up&amp;goto=news'><div class='votearrow' title='upvote'></div></a></center></td><td class=\"title\"><a href=\"https://mail.haskell.org/pipermail/ghc-devs/2018-December/016613.html\" class=\"storylink\">Moving to GitLab</a><span class=\"sitebit comhead\"> (<a href=\"from?site=haskell.org\"><span class=\"sitestr\">haskell.org</span></a>)</span></td></tr><tr><td colspan=\"2\"></td><td class=\"subtext\">\n",
      "        <span class=\"score\" id=\"score_18580224\">31 points</span> by <a href=\"user?id=sahin-boydas\" class=\"hnuser\">sahin-boydas</a> <span class=\"age\"><a href=\"item?id=18580224\">1 hour ago</a></span> <span id=\"unv_18580224\"></span> | <a href=\"hide?id=18580224&amp;goto=news\">hide</a> | <a href=\"item?id=18580224\">4&nbsp;comments</a>              </td></tr>\n",
      "      <tr class=\"spacer\" style=\"height:5px\"></tr>\n",
      "                <tr class='athing' id='18556630'>\n",
      "      <td align=\"right\" valign=\"top\" class=\"title\"><span class=\"rank\">10.</span></td>      <td valign=\"top\" class=\"votelinks\"><center><a id='up_18556630' href='vote?id=18556630&amp;how=up&amp;goto=news'><div class='votearrow' title='upvote'></div></a></center></td><td class=\"title\"><a href=\"http://franknoelker.com/collection/chimp-portraits\" class=\"storylink\">Chimp Portraits (2006)</a><span class=\"sitebit comhead\"> (<a href=\"from?site=franknoelker.com\"><span class=\"sitestr\">franknoelker.com</span></a>)</span></td></tr><tr><td colspan=\"2\"></td><td class=\"subtext\">\n",
      "        <span class=\"score\" id=\"score_18556630\">10 points</span> by <a href=\"user?id=brudgers\" class=\"hnuser\">brudgers</a> <span class=\"age\"><a href=\"item?id=18556630\">2 hours ago</a></span> <span id=\"unv_18556630\"></span> | <a href=\"hide?id=18556630&amp;goto=news\">hide</a> | <a href=\"item?id=18556630\">2&nbsp;comments</a>              </td></tr>\n",
      "      <tr class=\"spacer\" style=\"height:5px\"></tr>\n",
      "                <tr class='athing' id='18580446'>\n",
      "      <td align=\"right\" valign=\"top\" class=\"title\"><span class=\"rank\">11.</span></td>      <td></td><td class=\"title\"><a href=\"http://www.irisonboard.com/careers/\" class=\"storylink\" rel=\"nofollow\">Iris Automation Is Hiring a Computer Vision Expert – AI for Drones</a><span class=\"sitebit comhead\"> (<a href=\"from?site=irisonboard.com\"><span class=\"sitestr\">irisonboard.com</span></a>)</span></td></tr><tr><td colspan=\"2\"></td><td class=\"subtext\">\n",
      "        <span class=\"age\"><a href=\"item?id=18580446\">43 minutes ago</a></span> | <a href=\"hide?id=18580446&amp;goto=news\">hide</a>      </td></tr>\n",
      "      <tr class=\"spacer\" style=\"height:5px\"></tr>\n",
      "                <tr class='athing' id='18564386'>\n",
      "      <td align=\"right\" valign=\"top\" class=\"title\"><span class=\"rank\">12.</span></td>      <td valign=\"top\" class=\"votelinks\"><center><a id='up_18564386' href='vote?id=18564386&amp;how=up&amp;goto=news'><div class='votearrow' title='upvote'></div></a></center></td><td class=\"title\"><a href=\"https://ai.googleblog.com/2018/11/learning-to-predict-depth-on-pixel-3.html\" class=\"storylink\">Learning to Predict Depth on the Pixel 3 Phones</a><span class=\"sitebit comhead\"> (<a href=\"from?site=googleblog.com\"><span class=\"sitestr\">googleblog.com</span></a>)</span></td></tr><tr><td colspan=\"2\"></td><td class=\"subtext\">\n",
      "        <span class=\"score\" id=\"score_18564386\">102 points</span> by <a href=\"user?id=SirVeza\" class=\"hnuser\">SirVeza</a> <span class=\"age\"><a href=\"item?id=18564386\">11 hours ago</a></span> <span id=\"unv_18564386\"></span> | <a href=\"hide?id=18564386&amp;goto=news\">hide</a> | <a href=\"item?id=18564386\">11&nbsp;comments</a>              </td></tr>\n",
      "      <tr class=\"spacer\" style=\"height:5px\"></tr>\n",
      "                <tr class='athing' id='18568638'>\n",
      "      <td align=\"right\" valign=\"top\" class=\"title\"><span class=\"rank\">13.</span></td>      <td valign=\"top\" class=\"votelinks\"><center><a id='up_18568638' href='vote?id=18568638&amp;how=up&amp;goto=news'><div class='votearrow' title='upvote'></div></a></center></td><td class=\"title\"><a href=\"http://www.bbc.com/travel/story/20181129-the-last-true-knight-on-malta\" class=\"storylink\" rel=\"nofollow\">The last true knight on Malta</a><span class=\"sitebit comhead\"> (<a href=\"from?site=bbc.com\"><span class=\"sitestr\">bbc.com</span></a>)</span></td></tr><tr><td colspan=\"2\"></td><td class=\"subtext\">\n",
      "        <span class=\"score\" id=\"score_18568638\">4 points</span> by <a href=\"user?id=MiriamWeiner\" class=\"hnuser\">MiriamWeiner</a> <span class=\"age\"><a href=\"item?id=18568638\">1 hour ago</a></span> <span id=\"unv_18568638\"></span> | <a href=\"hide?id=18568638&amp;goto=news\">hide</a> | <a href=\"item?id=18568638\">1&nbsp;comment</a>              </td></tr>\n",
      "      <tr class=\"spacer\" style=\"height:5px\"></tr>\n",
      "                <tr class='athing' id='18579913'>\n",
      "      <td align=\"right\" valign=\"top\" class=\"title\"><span class=\"rank\">14.</span></td>      <td valign=\"top\" class=\"votelinks\"><center><a id='up_18579913' href='vote?id=18579913&amp;how=up&amp;goto=news'><div class='votearrow' title='upvote'></div></a></center></td><td class=\"title\"><a href=\"http://www.paulgraham.com/microsoft.html\" class=\"storylink\">Microsoft is Dead (2007)</a><span class=\"sitebit comhead\"> (<a href=\"from?site=paulgraham.com\"><span class=\"sitestr\">paulgraham.com</span></a>)</span></td></tr><tr><td colspan=\"2\"></td><td class=\"subtext\">\n",
      "        <span class=\"score\" id=\"score_18579913\">44 points</span> by <a href=\"user?id=WisNorCan\" class=\"hnuser\">WisNorCan</a> <span class=\"age\"><a href=\"item?id=18579913\">3 hours ago</a></span> <span id=\"unv_18579913\"></span> | <a href=\"hide?id=18579913&amp;goto=news\">hide</a> | <a href=\"item?id=18579913\">26&nbsp;comments</a>              </td></tr>\n",
      "      <tr class=\"spacer\" style=\"height:5px\"></tr>\n",
      "                <tr class='athing' id='18578252'>\n",
      "      <td align=\"right\" valign=\"top\" class=\"title\"><span class=\"rank\">15.</span></td>      <td valign=\"top\" class=\"votelinks\"><center><a id='up_18578252' href='vote?id=18578252&amp;how=up&amp;goto=news'><div class='votearrow' title='upvote'></div></a></center></td><td class=\"title\"><a href=\"https://www.theguardian.com/society/2018/dec/01/dark-web-dealers-voluntary-ban-deadly-fentanyl\" class=\"storylink\">Dark web dealers voluntarily ban deadly fentanyl</a><span class=\"sitebit comhead\"> (<a href=\"from?site=theguardian.com\"><span class=\"sitestr\">theguardian.com</span></a>)</span></td></tr><tr><td colspan=\"2\"></td><td class=\"subtext\">\n",
      "        <span class=\"score\" id=\"score_18578252\">105 points</span> by <a href=\"user?id=cribbles\" class=\"hnuser\">cribbles</a> <span class=\"age\"><a href=\"item?id=18578252\">8 hours ago</a></span> <span id=\"unv_18578252\"></span> | <a href=\"hide?id=18578252&amp;goto=news\">hide</a> | <a href=\"item?id=18578252\">84&nbsp;comments</a>              </td></tr>\n",
      "      <tr class=\"spacer\" style=\"height:5px\"></tr>\n",
      "                <tr class='athing' id='18577813'>\n",
      "      <td align=\"right\" valign=\"top\" class=\"title\"><span class=\"rank\">16.</span></td>      <td valign=\"top\" class=\"votelinks\"><center><a id='up_18577813' href='vote?id=18577813&amp;how=up&amp;goto=news'><div class='votearrow' title='upvote'></div></a></center></td><td class=\"title\"><a href=\"https://medium.com/@GaryMarcus/the-deepest-problem-with-deep-learning-91c5991f5695\" class=\"storylink\">The deepest problem with deep learning</a><span class=\"sitebit comhead\"> (<a href=\"from?site=medium.com\"><span class=\"sitestr\">medium.com</span></a>)</span></td></tr><tr><td colspan=\"2\"></td><td class=\"subtext\">\n",
      "        <span class=\"score\" id=\"score_18577813\">91 points</span> by <a href=\"user?id=dsr12\" class=\"hnuser\">dsr12</a> <span class=\"age\"><a href=\"item?id=18577813\">9 hours ago</a></span> <span id=\"unv_18577813\"></span> | <a href=\"hide?id=18577813&amp;goto=news\">hide</a> | <a href=\"item?id=18577813\">53&nbsp;comments</a>              </td></tr>\n",
      "      <tr class=\"spacer\" style=\"height:5px\"></tr>\n",
      "                <tr class='athing' id='18567182'>\n",
      "      <td align=\"right\" valign=\"top\" class=\"title\"><span class=\"rank\">17.</span></td>      <td valign=\"top\" class=\"votelinks\"><center><a id='up_18567182' href='vote?id=18567182&amp;how=up&amp;goto=news'><div class='votearrow' title='upvote'></div></a></center></td><td class=\"title\"><a href=\"https://www.smashingmagazine.com/2018/11/structured-content-done-right/\" class=\"storylink\">Strategies for Headless Projects with Structured Content Management Systems</a><span class=\"sitebit comhead\"> (<a href=\"from?site=smashingmagazine.com\"><span class=\"sitestr\">smashingmagazine.com</span></a>)</span></td></tr><tr><td colspan=\"2\"></td><td class=\"subtext\">\n",
      "        <span class=\"score\" id=\"score_18567182\">10 points</span> by <a href=\"user?id=kmelve\" class=\"hnuser\">kmelve</a> <span class=\"age\"><a href=\"item?id=18567182\">3 hours ago</a></span> <span id=\"unv_18567182\"></span> | <a href=\"hide?id=18567182&amp;goto=news\">hide</a> | <a href=\"item?id=18567182\">discuss</a>              </td></tr>\n",
      "      <tr class=\"spacer\" style=\"height:5px\"></tr>\n",
      "                <tr class='athing' id='18576612'>\n",
      "      <td align=\"right\" valign=\"top\" class=\"title\"><span class=\"rank\">18.</span></td>      <td valign=\"top\" class=\"votelinks\"><center><a id='up_18576612' href='vote?id=18576612&amp;how=up&amp;goto=news'><div class='votearrow' title='upvote'></div></a></center></td><td class=\"title\"><a href=\"https://www.johnsto.co.uk/design/making-dust/\" class=\"storylink\">The Making Of: Dust</a><span class=\"sitebit comhead\"> (<a href=\"from?site=johnsto.co.uk\"><span class=\"sitestr\">johnsto.co.uk</span></a>)</span></td></tr><tr><td colspan=\"2\"></td><td class=\"subtext\">\n",
      "        <span class=\"score\" id=\"score_18576612\">170 points</span> by <a href=\"user?id=kodisha\" class=\"hnuser\">kodisha</a> <span class=\"age\"><a href=\"item?id=18576612\">14 hours ago</a></span> <span id=\"unv_18576612\"></span> | <a href=\"hide?id=18576612&amp;goto=news\">hide</a> | <a href=\"item?id=18576612\">24&nbsp;comments</a>              </td></tr>\n",
      "      <tr class=\"spacer\" style=\"height:5px\"></tr>\n",
      "                <tr class='athing' id='18577061'>\n",
      "      <td align=\"right\" valign=\"top\" class=\"title\"><span class=\"rank\">19.</span></td>      <td valign=\"top\" class=\"votelinks\"><center><a id='up_18577061' href='vote?id=18577061&amp;how=up&amp;goto=news'><div class='votearrow' title='upvote'></div></a></center></td><td class=\"title\"><a href=\"http://www.theatlantic.com/international/archive/2016/06/complex-languages/489389/\" class=\"storylink\">The World's Most Efficient Languages (2016)</a><span class=\"sitebit comhead\"> (<a href=\"from?site=theatlantic.com\"><span class=\"sitestr\">theatlantic.com</span></a>)</span></td></tr><tr><td colspan=\"2\"></td><td class=\"subtext\">\n",
      "        <span class=\"score\" id=\"score_18577061\">125 points</span> by <a href=\"user?id=Jtsummers\" class=\"hnuser\">Jtsummers</a> <span class=\"age\"><a href=\"item?id=18577061\">12 hours ago</a></span> <span id=\"unv_18577061\"></span> | <a href=\"hide?id=18577061&amp;goto=news\">hide</a> | <a href=\"item?id=18577061\">73&nbsp;comments</a>              </td></tr>\n",
      "      <tr class=\"spacer\" style=\"height:5px\"></tr>\n",
      "                <tr class='athing' id='18578037'>\n",
      "      <td align=\"right\" valign=\"top\" class=\"title\"><span class=\"rank\">20.</span></td>      <td valign=\"top\" class=\"votelinks\"><center><a id='up_18578037' href='vote?id=18578037&amp;how=up&amp;goto=news'><div class='votearrow' title='upvote'></div></a></center></td><td class=\"title\"><a href=\"https://martinfowler.com/articles/refactoring-2nd-ed.html\" class=\"storylink\">The Second Edition of “Refactoring”</a><span class=\"sitebit comhead\"> (<a href=\"from?site=martinfowler.com\"><span class=\"sitestr\">martinfowler.com</span></a>)</span></td></tr><tr><td colspan=\"2\"></td><td class=\"subtext\">\n",
      "        <span class=\"score\" id=\"score_18578037\">161 points</span> by <a href=\"user?id=sz4kerto\" class=\"hnuser\">sz4kerto</a> <span class=\"age\"><a href=\"item?id=18578037\">8 hours ago</a></span> <span id=\"unv_18578037\"></span> | <a href=\"hide?id=18578037&amp;goto=news\">hide</a> | <a href=\"item?id=18578037\">52&nbsp;comments</a>              </td></tr>\n",
      "      <tr class=\"spacer\" style=\"height:5px\"></tr>\n",
      "                <tr class='athing' id='18567871'>\n",
      "      <td align=\"right\" valign=\"top\" class=\"title\"><span class=\"rank\">21.</span></td>      <td valign=\"top\" class=\"votelinks\"><center><a id='up_18567871' href='vote?id=18567871&amp;how=up&amp;goto=news'><div class='votearrow' title='upvote'></div></a></center></td><td class=\"title\"><a href=\"https://www.bloomberg.com/news/articles/2018-11-30/spacex-to-loft-satellites-to-hunt-pirates-and-maybe-terrorists\" class=\"storylink\">New Satellites Will Hunt Pirates, and Maybe Terrorists</a><span class=\"sitebit comhead\"> (<a href=\"from?site=bloomberg.com\"><span class=\"sitestr\">bloomberg.com</span></a>)</span></td></tr><tr><td colspan=\"2\"></td><td class=\"subtext\">\n",
      "        <span class=\"score\" id=\"score_18567871\">46 points</span> by <a href=\"user?id=PeOe\" class=\"hnuser\">PeOe</a> <span class=\"age\"><a href=\"item?id=18567871\">9 hours ago</a></span> <span id=\"unv_18567871\"></span> | <a href=\"hide?id=18567871&amp;goto=news\">hide</a> | <a href=\"item?id=18567871\">18&nbsp;comments</a>              </td></tr>\n",
      "      <tr class=\"spacer\" style=\"height:5px\"></tr>\n",
      "                <tr class='athing' id='18576588'>\n",
      "      <td align=\"right\" valign=\"top\" class=\"title\"><span class=\"rank\">22.</span></td>      <td valign=\"top\" class=\"votelinks\"><center><a id='up_18576588' href='vote?id=18576588&amp;how=up&amp;goto=news'><div class='votearrow' title='upvote'></div></a></center></td><td class=\"title\"><a href=\"https://blog.mozilla.org/internetcitizen/2018/11/25/the-bare-minimum-you-should-do-to-protect-your-familys-data/\" class=\"storylink\">The Bare Minimum You Should Do to Protect Your Family's Data</a><span class=\"sitebit comhead\"> (<a href=\"from?site=blog.mozilla.org\"><span class=\"sitestr\">blog.mozilla.org</span></a>)</span></td></tr><tr><td colspan=\"2\"></td><td class=\"subtext\">\n",
      "        <span class=\"score\" id=\"score_18576588\">129 points</span> by <a href=\"user?id=octosphere\" class=\"hnuser\">octosphere</a> <span class=\"age\"><a href=\"item?id=18576588\">14 hours ago</a></span> <span id=\"unv_18576588\"></span> | <a href=\"hide?id=18576588&amp;goto=news\">hide</a> | <a href=\"item?id=18576588\">84&nbsp;comments</a>              </td></tr>\n",
      "      <tr class=\"spacer\" style=\"height:5px\"></tr>\n",
      "                <tr class='athing' id='18560126'>\n",
      "      <td align=\"right\" valign=\"top\" class=\"title\"><span class=\"rank\">23.</span></td>      <td valign=\"top\" class=\"votelinks\"><center><a id='up_18560126' href='vote?id=18560126&amp;how=up&amp;goto=news'><div class='votearrow' title='upvote'></div></a></center></td><td class=\"title\"><a href=\"https://www.hollywoodreporter.com/bastard-machine/critics-notebook-youtube-premium-concept-is-all-but-done-1164556\" class=\"storylink\">The YouTube Premium Concept Is All but Done</a><span class=\"sitebit comhead\"> (<a href=\"from?site=hollywoodreporter.com\"><span class=\"sitestr\">hollywoodreporter.com</span></a>)</span></td></tr><tr><td colspan=\"2\"></td><td class=\"subtext\">\n",
      "        <span class=\"score\" id=\"score_18560126\">48 points</span> by <a href=\"user?id=elemeno\" class=\"hnuser\">elemeno</a> <span class=\"age\"><a href=\"item?id=18560126\">5 hours ago</a></span> <span id=\"unv_18560126\"></span> | <a href=\"hide?id=18560126&amp;goto=news\">hide</a> | <a href=\"item?id=18560126\">58&nbsp;comments</a>              </td></tr>\n",
      "      <tr class=\"spacer\" style=\"height:5px\"></tr>\n",
      "                <tr class='athing' id='18575052'>\n",
      "      <td align=\"right\" valign=\"top\" class=\"title\"><span class=\"rank\">24.</span></td>      <td valign=\"top\" class=\"votelinks\"><center><a id='up_18575052' href='vote?id=18575052&amp;how=up&amp;goto=news'><div class='votearrow' title='upvote'></div></a></center></td><td class=\"title\"><a href=\"https://www.youtube.com/watch?v=gui_SE8rJUM\" class=\"storylink\">Categories for the Working Hacker [video]</a><span class=\"sitebit comhead\"> (<a href=\"from?site=youtube.com\"><span class=\"sitestr\">youtube.com</span></a>)</span></td></tr><tr><td colspan=\"2\"></td><td class=\"subtext\">\n",
      "        <span class=\"score\" id=\"score_18575052\">65 points</span> by <a href=\"user?id=pplonski86\" class=\"hnuser\">pplonski86</a> <span class=\"age\"><a href=\"item?id=18575052\">11 hours ago</a></span> <span id=\"unv_18575052\"></span> | <a href=\"hide?id=18575052&amp;goto=news\">hide</a> | <a href=\"item?id=18575052\">4&nbsp;comments</a>              </td></tr>\n",
      "      <tr class=\"spacer\" style=\"height:5px\"></tr>\n",
      "                <tr class='athing' id='18579754'>\n",
      "      <td align=\"right\" valign=\"top\" class=\"title\"><span class=\"rank\">25.</span></td>      <td valign=\"top\" class=\"votelinks\"><center><a id='up_18579754' href='vote?id=18579754&amp;how=up&amp;goto=news'><div class='votearrow' title='upvote'></div></a></center></td><td class=\"title\"><a href=\"https://lkml.org/lkml/2018/12/2/46\" class=\"storylink\" rel=\"nofollow\">Bcachefs status update</a><span class=\"sitebit comhead\"> (<a href=\"from?site=lkml.org\"><span class=\"sitestr\">lkml.org</span></a>)</span></td></tr><tr><td colspan=\"2\"></td><td class=\"subtext\">\n",
      "        <span class=\"score\" id=\"score_18579754\">6 points</span> by <a href=\"user?id=koverstreet\" class=\"hnuser\">koverstreet</a> <span class=\"age\"><a href=\"item?id=18579754\">3 hours ago</a></span> <span id=\"unv_18579754\"></span> | <a href=\"hide?id=18579754&amp;goto=news\">hide</a> | <a href=\"item?id=18579754\">discuss</a>              </td></tr>\n",
      "      <tr class=\"spacer\" style=\"height:5px\"></tr>\n",
      "                <tr class='athing' id='18567180'>\n",
      "      <td align=\"right\" valign=\"top\" class=\"title\"><span class=\"rank\">26.</span></td>      <td valign=\"top\" class=\"votelinks\"><center><a id='up_18567180' href='vote?id=18567180&amp;how=up&amp;goto=news'><div class='votearrow' title='upvote'></div></a></center></td><td class=\"title\"><a href=\"http://www.cs.utah.edu/flux/papers/oskit-sosp97.html\" class=\"storylink\">Flux OSKit: Reusable Components for OS Implementation (1997)</a><span class=\"sitebit comhead\"> (<a href=\"from?site=utah.edu\"><span class=\"sitestr\">utah.edu</span></a>)</span></td></tr><tr><td colspan=\"2\"></td><td class=\"subtext\">\n",
      "        <span class=\"score\" id=\"score_18567180\">44 points</span> by <a href=\"user?id=deepaksurti\" class=\"hnuser\">deepaksurti</a> <span class=\"age\"><a href=\"item?id=18567180\">13 hours ago</a></span> <span id=\"unv_18567180\"></span> | <a href=\"hide?id=18567180&amp;goto=news\">hide</a> | <a href=\"item?id=18567180\">4&nbsp;comments</a>              </td></tr>\n",
      "      <tr class=\"spacer\" style=\"height:5px\"></tr>\n",
      "                <tr class='athing' id='18579182'>\n",
      "      <td align=\"right\" valign=\"top\" class=\"title\"><span class=\"rank\">27.</span></td>      <td valign=\"top\" class=\"votelinks\"><center><a id='up_18579182' href='vote?id=18579182&amp;how=up&amp;goto=news'><div class='votearrow' title='upvote'></div></a></center></td><td class=\"title\"><a href=\"http://www.calvertjournal.com/features/show/10811/moscow-cinemas-yuri-palmin\" class=\"storylink\">Picture houses: a last glimpse of Moscow’s beautiful and derelict Soviet cinemas</a><span class=\"sitebit comhead\"> (<a href=\"from?site=calvertjournal.com\"><span class=\"sitestr\">calvertjournal.com</span></a>)</span></td></tr><tr><td colspan=\"2\"></td><td class=\"subtext\">\n",
      "        <span class=\"score\" id=\"score_18579182\">23 points</span> by <a href=\"user?id=walterbell\" class=\"hnuser\">walterbell</a> <span class=\"age\"><a href=\"item?id=18579182\">5 hours ago</a></span> <span id=\"unv_18579182\"></span> | <a href=\"hide?id=18579182&amp;goto=news\">hide</a> | <a href=\"item?id=18579182\">5&nbsp;comments</a>              </td></tr>\n",
      "      <tr class=\"spacer\" style=\"height:5px\"></tr>\n",
      "                <tr class='athing' id='18576468'>\n",
      "      <td align=\"right\" valign=\"top\" class=\"title\"><span class=\"rank\">28.</span></td>      <td valign=\"top\" class=\"votelinks\"><center><a id='up_18576468' href='vote?id=18576468&amp;how=up&amp;goto=news'><div class='votearrow' title='upvote'></div></a></center></td><td class=\"title\"><a href=\"http://www.vulture.com/2018/10/the-making-of-rockstar-games-red-dead-redemption-2.html\" class=\"storylink\">How the West Was Digitized: The Making of Rockstar Games’ Red Dead Redemption 2</a><span class=\"sitebit comhead\"> (<a href=\"from?site=vulture.com\"><span class=\"sitestr\">vulture.com</span></a>)</span></td></tr><tr><td colspan=\"2\"></td><td class=\"subtext\">\n",
      "        <span class=\"score\" id=\"score_18576468\">99 points</span> by <a href=\"user?id=pcestrada\" class=\"hnuser\">pcestrada</a> <span class=\"age\"><a href=\"item?id=18576468\">15 hours ago</a></span> <span id=\"unv_18576468\"></span> | <a href=\"hide?id=18576468&amp;goto=news\">hide</a> | <a href=\"item?id=18576468\">76&nbsp;comments</a>              </td></tr>\n",
      "      <tr class=\"spacer\" style=\"height:5px\"></tr>\n",
      "                <tr class='athing' id='18577832'>\n",
      "      <td align=\"right\" valign=\"top\" class=\"title\"><span class=\"rank\">29.</span></td>      <td valign=\"top\" class=\"votelinks\"><center><a id='up_18577832' href='vote?id=18577832&amp;how=up&amp;goto=news'><div class='votearrow' title='upvote'></div></a></center></td><td class=\"title\"><a href=\"https://www.typescriptlang.org/docs/handbook/typescript-in-5-minutes.html\" class=\"storylink\">TypeScript in 5 minutes</a><span class=\"sitebit comhead\"> (<a href=\"from?site=typescriptlang.org\"><span class=\"sitestr\">typescriptlang.org</span></a>)</span></td></tr><tr><td colspan=\"2\"></td><td class=\"subtext\">\n",
      "        <span class=\"score\" id=\"score_18577832\">77 points</span> by <a href=\"user?id=karmakaze\" class=\"hnuser\">karmakaze</a> <span class=\"age\"><a href=\"item?id=18577832\">9 hours ago</a></span> <span id=\"unv_18577832\"></span> | <a href=\"hide?id=18577832&amp;goto=news\">hide</a> | <a href=\"item?id=18577832\">26&nbsp;comments</a>              </td></tr>\n",
      "      <tr class=\"spacer\" style=\"height:5px\"></tr>\n",
      "                <tr class='athing' id='18576117'>\n",
      "      <td align=\"right\" valign=\"top\" class=\"title\"><span class=\"rank\">30.</span></td>      <td valign=\"top\" class=\"votelinks\"><center><a id='up_18576117' href='vote?id=18576117&amp;how=up&amp;goto=news'><div class='votearrow' title='upvote'></div></a></center></td><td class=\"title\"><a href=\"https://dust3d.org/\" class=\"storylink\">Show HN: Cross-platform open-source 3D modeling software</a><span class=\"sitebit comhead\"> (<a href=\"from?site=dust3d.org\"><span class=\"sitestr\">dust3d.org</span></a>)</span></td></tr><tr><td colspan=\"2\"></td><td class=\"subtext\">\n",
      "        <span class=\"score\" id=\"score_18576117\">247 points</span> by <a href=\"user?id=huxingyi\" class=\"hnuser\">huxingyi</a> <span class=\"age\"><a href=\"item?id=18576117\">17 hours ago</a></span> <span id=\"unv_18576117\"></span> | <a href=\"hide?id=18576117&amp;goto=news\">hide</a> | <a href=\"item?id=18576117\">76&nbsp;comments</a>              </td></tr>\n",
      "      <tr class=\"spacer\" style=\"height:5px\"></tr>\n",
      "            <tr class=\"morespace\" style=\"height:10px\"></tr><tr><td colspan=\"2\"></td><td class=\"title\"><a href=\"news?p=2\" class=\"morelink\" rel=\"nofollow\">More</a></td></tr>\n",
      "  </table>\n",
      "</td></tr>\n",
      "<tr><td><img src=\"s.gif\" height=\"10\" width=\"0\"><table width=\"100%\" cellspacing=\"0\" cellpadding=\"1\"><tr><td bgcolor=\"#ff6600\"></td></tr></table><br><center><span class=\"yclinks\"><a href=\"newsguidelines.html\">Guidelines</a>\n",
      "        | <a href=\"newsfaq.html\">FAQ</a>\n",
      "        | <a href=\"mailto:hn@ycombinator.com\">Support</a>\n",
      "        | <a href=\"https://github.com/HackerNews/API\">API</a>\n",
      "        | <a href=\"security.html\">Security</a>\n",
      "        | <a href=\"lists\">Lists</a>\n",
      "        | <a href=\"bookmarklet.html\" rel=\"nofollow\">Bookmarklet</a>\n",
      "        | <a href=\"http://www.ycombinator.com/legal/\">Legal</a>\n",
      "        | <a href=\"http://www.ycombinator.com/apply/\">Apply to YC</a>\n",
      "        | <a href=\"mailto:hn@ycombinator.com\">Contact</a></span><br><br><form method=\"get\" action=\"//hn.algolia.com/\">Search:\n",
      "          <input type=\"text\" name=\"q\" value=\"\" size=\"17\" autocorrect=\"off\" spellcheck=\"false\" autocapitalize=\"off\" autocomplete=\"false\"></form>\n",
      "            </center></td></tr>\n",
      "      </table></center></body><script type='text/javascript' src='hn.js?3t77tvpPRJ1qN05oonrE'></script>\n",
      "  </html>\n",
      "\n"
     ]
    }
   ],
   "source": [
    "import requests\n",
    "\n",
    "# Fetch a web page\n",
    "r = requests.get(\"https://news.ycombinator.com\")\n",
    "print(r.text)"
   ]
  },
  {
   "cell_type": "code",
   "execution_count": 5,
   "metadata": {},
   "outputs": [
    {
     "name": "stdout",
     "output_type": "stream",
     "text": [
      "\n",
      "            \n",
      "          \n",
      "        Hacker News\n",
      "        \n",
      "                  Hacker News\n",
      "              new | comments | show | ask | jobs | submit            \n",
      "                              login\n",
      "                          \n",
      "              \n",
      "\n",
      "              \n",
      "      1.      A Programmer's Introduction to Mathematics (jeremykun.com)\n",
      "        279 points by chocolateboy 5 hours ago  | hide | 73&nbsp;comments              \n",
      "      \n",
      "                \n",
      "      2.      Monarch butterfly populations in U.S. west are down an order of magnitude (qz.com)\n",
      "        112 points by prostoalex 4 hours ago  | hide | 26&nbsp;comments              \n",
      "      \n",
      "                \n",
      "      3.      Psychology’s Replication Crisis Is Real (theatlantic.com)\n",
      "        418 points by zwieback 12 hours ago  | hide | 230&nbsp;comments              \n",
      "      \n",
      "                \n",
      "      4.      The Octopus Is Smart as Heck, But Why? (nytimes.com)\n",
      "        91 points by dnetesn 5 hours ago  | hide | 37&nbsp;comments              \n",
      "      \n",
      "                \n",
      "      5.      8K is now being broadcast in Japan (newsshooter.com)\n",
      "        203 points by kungfudoi 9 hours ago  | hide | 263&nbsp;comments              \n",
      "      \n",
      "                \n",
      "      6.      New Parents Complain Amazon Baby-Registry Ads Are Deceptive (wsj.com)\n",
      "        86 points by mwnivek 6 hours ago  | hide | 36&nbsp;comments              \n",
      "      \n",
      "                \n",
      "      7.      Portal for the C64 (jamiefuller.com)\n",
      "        97 points by bane 6 hours ago  | hide | 19&nbsp;comments              \n",
      "      \n",
      "                \n",
      "      8.      The EU Copyright Directive: What Redditors in Europe Need to Know (redditblog.com)\n",
      "        282 points by DyslexicAtheist 13 hours ago  | hide | 231&nbsp;comments              \n",
      "      \n",
      "                \n",
      "      9.      Moving to GitLab (haskell.org)\n",
      "        31 points by sahin-boydas 1 hour ago  | hide | 4&nbsp;comments              \n",
      "      \n",
      "                \n",
      "      10.      Chimp Portraits (2006) (franknoelker.com)\n",
      "        10 points by brudgers 2 hours ago  | hide | 2&nbsp;comments              \n",
      "      \n",
      "                \n",
      "      11.      Iris Automation Is Hiring a Computer Vision Expert – AI for Drones (irisonboard.com)\n",
      "        43 minutes ago | hide      \n",
      "      \n",
      "                \n",
      "      12.      Learning to Predict Depth on the Pixel 3 Phones (googleblog.com)\n",
      "        102 points by SirVeza 11 hours ago  | hide | 11&nbsp;comments              \n",
      "      \n",
      "                \n",
      "      13.      The last true knight on Malta (bbc.com)\n",
      "        4 points by MiriamWeiner 1 hour ago  | hide | 1&nbsp;comment              \n",
      "      \n",
      "                \n",
      "      14.      Microsoft is Dead (2007) (paulgraham.com)\n",
      "        44 points by WisNorCan 3 hours ago  | hide | 26&nbsp;comments              \n",
      "      \n",
      "                \n",
      "      15.      Dark web dealers voluntarily ban deadly fentanyl (theguardian.com)\n",
      "        105 points by cribbles 8 hours ago  | hide | 84&nbsp;comments              \n",
      "      \n",
      "                \n",
      "      16.      The deepest problem with deep learning (medium.com)\n",
      "        91 points by dsr12 9 hours ago  | hide | 53&nbsp;comments              \n",
      "      \n",
      "                \n",
      "      17.      Strategies for Headless Projects with Structured Content Management Systems (smashingmagazine.com)\n",
      "        10 points by kmelve 3 hours ago  | hide | discuss              \n",
      "      \n",
      "                \n",
      "      18.      The Making Of: Dust (johnsto.co.uk)\n",
      "        170 points by kodisha 14 hours ago  | hide | 24&nbsp;comments              \n",
      "      \n",
      "                \n",
      "      19.      The World's Most Efficient Languages (2016) (theatlantic.com)\n",
      "        125 points by Jtsummers 12 hours ago  | hide | 73&nbsp;comments              \n",
      "      \n",
      "                \n",
      "      20.      The Second Edition of “Refactoring” (martinfowler.com)\n",
      "        161 points by sz4kerto 8 hours ago  | hide | 52&nbsp;comments              \n",
      "      \n",
      "                \n",
      "      21.      New Satellites Will Hunt Pirates, and Maybe Terrorists (bloomberg.com)\n",
      "        46 points by PeOe 9 hours ago  | hide | 18&nbsp;comments              \n",
      "      \n",
      "                \n",
      "      22.      The Bare Minimum You Should Do to Protect Your Family's Data (blog.mozilla.org)\n",
      "        129 points by octosphere 14 hours ago  | hide | 84&nbsp;comments              \n",
      "      \n",
      "                \n",
      "      23.      The YouTube Premium Concept Is All but Done (hollywoodreporter.com)\n",
      "        48 points by elemeno 5 hours ago  | hide | 58&nbsp;comments              \n",
      "      \n",
      "                \n",
      "      24.      Categories for the Working Hacker [video] (youtube.com)\n",
      "        65 points by pplonski86 11 hours ago  | hide | 4&nbsp;comments              \n",
      "      \n",
      "                \n",
      "      25.      Bcachefs status update (lkml.org)\n",
      "        6 points by koverstreet 3 hours ago  | hide | discuss              \n",
      "      \n",
      "                \n",
      "      26.      Flux OSKit: Reusable Components for OS Implementation (1997) (utah.edu)\n",
      "        44 points by deepaksurti 13 hours ago  | hide | 4&nbsp;comments              \n",
      "      \n",
      "                \n",
      "      27.      Picture houses: a last glimpse of Moscow’s beautiful and derelict Soviet cinemas (calvertjournal.com)\n",
      "        23 points by walterbell 5 hours ago  | hide | 5&nbsp;comments              \n",
      "      \n",
      "                \n",
      "      28.      How the West Was Digitized: The Making of Rockstar Games’ Red Dead Redemption 2 (vulture.com)\n",
      "        99 points by pcestrada 15 hours ago  | hide | 76&nbsp;comments              \n",
      "      \n",
      "                \n",
      "      29.      TypeScript in 5 minutes (typescriptlang.org)\n",
      "        77 points by karmakaze 9 hours ago  | hide | 26&nbsp;comments              \n",
      "      \n",
      "                \n",
      "      30.      Show HN: Cross-platform open-source 3D modeling software (dust3d.org)\n",
      "        247 points by huxingyi 17 hours ago  | hide | 76&nbsp;comments              \n",
      "      \n",
      "            More\n",
      "  \n",
      "\n",
      "Guidelines\n",
      "        | FAQ\n",
      "        | Support\n",
      "        | API\n",
      "        | Security\n",
      "        | Lists\n",
      "        | Bookmarklet\n",
      "        | Legal\n",
      "        | Apply to YC\n",
      "        | ContactSearch:\n",
      "          \n",
      "            \n",
      "      \n",
      "  \n",
      "\n"
     ]
    }
   ],
   "source": [
    "import re\n",
    "\n",
    "# Remove HTML tags using RegEx\n",
    "pattern = re.compile(r'<.*?>')  # tags look like <...>\n",
    "print(pattern.sub('', r.text))  # replace them with blank"
   ]
  },
  {
   "cell_type": "code",
   "execution_count": 6,
   "metadata": {},
   "outputs": [
    {
     "name": "stdout",
     "output_type": "stream",
     "text": [
      "\n",
      "            \n",
      "          \n",
      "        Hacker News\n",
      "        \n",
      "                  Hacker News\n",
      "              new | comments | show | ask | jobs | submit            \n",
      "                              login\n",
      "                          \n",
      "              \n",
      "\n",
      "              \n",
      "      1.      A Programmer's Introduction to Mathematics (jeremykun.com)\n",
      "        279 points by chocolateboy 5 hours ago  | hide | 73 comments              \n",
      "      \n",
      "                \n",
      "      2.      Monarch butterfly populations in U.S. west are down an order of magnitude (qz.com)\n",
      "        112 points by prostoalex 4 hours ago  | hide | 26 comments              \n",
      "      \n",
      "                \n",
      "      3.      Psychology’s Replication Crisis Is Real (theatlantic.com)\n",
      "        418 points by zwieback 12 hours ago  | hide | 230 comments              \n",
      "      \n",
      "                \n",
      "      4.      The Octopus Is Smart as Heck, But Why? (nytimes.com)\n",
      "        91 points by dnetesn 5 hours ago  | hide | 37 comments              \n",
      "      \n",
      "                \n",
      "      5.      8K is now being broadcast in Japan (newsshooter.com)\n",
      "        203 points by kungfudoi 9 hours ago  | hide | 263 comments              \n",
      "      \n",
      "                \n",
      "      6.      New Parents Complain Amazon Baby-Registry Ads Are Deceptive (wsj.com)\n",
      "        86 points by mwnivek 6 hours ago  | hide | 36 comments              \n",
      "      \n",
      "                \n",
      "      7.      Portal for the C64 (jamiefuller.com)\n",
      "        97 points by bane 6 hours ago  | hide | 19 comments              \n",
      "      \n",
      "                \n",
      "      8.      The EU Copyright Directive: What Redditors in Europe Need to Know (redditblog.com)\n",
      "        282 points by DyslexicAtheist 13 hours ago  | hide | 231 comments              \n",
      "      \n",
      "                \n",
      "      9.      Moving to GitLab (haskell.org)\n",
      "        31 points by sahin-boydas 1 hour ago  | hide | 4 comments              \n",
      "      \n",
      "                \n",
      "      10.      Chimp Portraits (2006) (franknoelker.com)\n",
      "        10 points by brudgers 2 hours ago  | hide | 2 comments              \n",
      "      \n",
      "                \n",
      "      11.      Iris Automation Is Hiring a Computer Vision Expert – AI for Drones (irisonboard.com)\n",
      "        43 minutes ago | hide      \n",
      "      \n",
      "                \n",
      "      12.      Learning to Predict Depth on the Pixel 3 Phones (googleblog.com)\n",
      "        102 points by SirVeza 11 hours ago  | hide | 11 comments              \n",
      "      \n",
      "                \n",
      "      13.      The last true knight on Malta (bbc.com)\n",
      "        4 points by MiriamWeiner 1 hour ago  | hide | 1 comment              \n",
      "      \n",
      "                \n",
      "      14.      Microsoft is Dead (2007) (paulgraham.com)\n",
      "        44 points by WisNorCan 3 hours ago  | hide | 26 comments              \n",
      "      \n",
      "                \n",
      "      15.      Dark web dealers voluntarily ban deadly fentanyl (theguardian.com)\n",
      "        105 points by cribbles 8 hours ago  | hide | 84 comments              \n",
      "      \n",
      "                \n",
      "      16.      The deepest problem with deep learning (medium.com)\n",
      "        91 points by dsr12 9 hours ago  | hide | 53 comments              \n",
      "      \n",
      "                \n",
      "      17.      Strategies for Headless Projects with Structured Content Management Systems (smashingmagazine.com)\n",
      "        10 points by kmelve 3 hours ago  | hide | discuss              \n",
      "      \n",
      "                \n",
      "      18.      The Making Of: Dust (johnsto.co.uk)\n",
      "        170 points by kodisha 14 hours ago  | hide | 24 comments              \n",
      "      \n",
      "                \n",
      "      19.      The World's Most Efficient Languages (2016) (theatlantic.com)\n",
      "        125 points by Jtsummers 12 hours ago  | hide | 73 comments              \n",
      "      \n",
      "                \n",
      "      20.      The Second Edition of “Refactoring” (martinfowler.com)\n",
      "        161 points by sz4kerto 8 hours ago  | hide | 52 comments              \n",
      "      \n",
      "                \n",
      "      21.      New Satellites Will Hunt Pirates, and Maybe Terrorists (bloomberg.com)\n",
      "        46 points by PeOe 9 hours ago  | hide | 18 comments              \n",
      "      \n",
      "                \n",
      "      22.      The Bare Minimum You Should Do to Protect Your Family's Data (blog.mozilla.org)\n",
      "        129 points by octosphere 14 hours ago  | hide | 84 comments              \n",
      "      \n",
      "                \n",
      "      23.      The YouTube Premium Concept Is All but Done (hollywoodreporter.com)\n",
      "        48 points by elemeno 5 hours ago  | hide | 58 comments              \n",
      "      \n",
      "                \n",
      "      24.      Categories for the Working Hacker [video] (youtube.com)\n",
      "        65 points by pplonski86 11 hours ago  | hide | 4 comments              \n",
      "      \n",
      "                \n",
      "      25.      Bcachefs status update (lkml.org)\n",
      "        6 points by koverstreet 3 hours ago  | hide | discuss              \n",
      "      \n",
      "                \n",
      "      26.      Flux OSKit: Reusable Components for OS Implementation (1997) (utah.edu)\n",
      "        44 points by deepaksurti 13 hours ago  | hide | 4 comments              \n",
      "      \n",
      "                \n",
      "      27.      Picture houses: a last glimpse of Moscow’s beautiful and derelict Soviet cinemas (calvertjournal.com)\n",
      "        23 points by walterbell 5 hours ago  | hide | 5 comments              \n",
      "      \n",
      "                \n",
      "      28.      How the West Was Digitized: The Making of Rockstar Games’ Red Dead Redemption 2 (vulture.com)\n",
      "        99 points by pcestrada 15 hours ago  | hide | 76 comments              \n",
      "      \n",
      "                \n",
      "      29.      TypeScript in 5 minutes (typescriptlang.org)\n",
      "        77 points by karmakaze 9 hours ago  | hide | 26 comments              \n",
      "      \n",
      "                \n",
      "      30.      Show HN: Cross-platform open-source 3D modeling software (dust3d.org)\n",
      "        247 points by huxingyi 17 hours ago  | hide | 76 comments              \n",
      "      \n",
      "            More\n",
      "  \n",
      "\n",
      "Guidelines\n",
      "        | FAQ\n",
      "        | Support\n",
      "        | API\n",
      "        | Security\n",
      "        | Lists\n",
      "        | Bookmarklet\n",
      "        | Legal\n",
      "        | Apply to YC\n",
      "        | ContactSearch:\n",
      "          \n",
      "            \n",
      "      \n",
      "  \n",
      "\n"
     ]
    }
   ],
   "source": [
    "from bs4 import BeautifulSoup\n",
    "\n",
    "# Remove HTML tags using Beautiful Soup library\n",
    "soup = BeautifulSoup(r.text, \"html5lib\")\n",
    "print(soup.get_text())"
   ]
  },
  {
   "cell_type": "code",
   "execution_count": 7,
   "metadata": {
    "scrolled": true
   },
   "outputs": [
    {
     "data": {
      "text/plain": [
       "<tr class=\"athing\" id=\"18579076\">\n",
       "      <td align=\"right\" class=\"title\" valign=\"top\"><span class=\"rank\">1.</span></td>      <td class=\"votelinks\" valign=\"top\"><center><a href=\"vote?id=18579076&amp;how=up&amp;goto=news\" id=\"up_18579076\"><div class=\"votearrow\" title=\"upvote\"></div></a></center></td><td class=\"title\"><a class=\"storylink\" href=\"https://jeremykun.com/2018/12/01/a-programmers-introduction-to-mathematics/\">A Programmer's Introduction to Mathematics</a><span class=\"sitebit comhead\"> (<a href=\"from?site=jeremykun.com\"><span class=\"sitestr\">jeremykun.com</span></a>)</span></td></tr>"
      ]
     },
     "execution_count": 7,
     "metadata": {},
     "output_type": "execute_result"
    }
   ],
   "source": [
    "# Find all articles\n",
    "summaries = soup.find_all(\"tr\", class_=\"athing\")\n",
    "summaries[0]"
   ]
  },
  {
   "cell_type": "code",
   "execution_count": 8,
   "metadata": {},
   "outputs": [
    {
     "data": {
      "text/plain": [
       "\"A Programmer's Introduction to Mathematics\""
      ]
     },
     "execution_count": 8,
     "metadata": {},
     "output_type": "execute_result"
    }
   ],
   "source": [
    "# Extract title\n",
    "summaries[0].find(\"a\", class_=\"storylink\").get_text().strip()"
   ]
  },
  {
   "cell_type": "code",
   "execution_count": 9,
   "metadata": {},
   "outputs": [
    {
     "name": "stdout",
     "output_type": "stream",
     "text": [
      "30 Article summaries found. Sample:\n",
      "A Programmer's Introduction to Mathematics\n"
     ]
    }
   ],
   "source": [
    "# Find all articles, extract titles\n",
    "articles = []\n",
    "summaries = soup.find_all(\"tr\", class_=\"athing\")\n",
    "for summary in summaries:\n",
    "    title = summary.find(\"a\", class_=\"storylink\").get_text().strip()\n",
    "    articles.append((title))\n",
    "\n",
    "print(len(articles), \"Article summaries found. Sample:\")\n",
    "print(articles[0])"
   ]
  },
  {
   "cell_type": "markdown",
   "metadata": {
    "collapsed": true
   },
   "source": [
    "## Normalization"
   ]
  },
  {
   "cell_type": "markdown",
   "metadata": {},
   "source": [
    "### Case Normalization"
   ]
  },
  {
   "cell_type": "code",
   "execution_count": 10,
   "metadata": {},
   "outputs": [
    {
     "name": "stdout",
     "output_type": "stream",
     "text": [
      "The first time you see The Second Renaissance it may look boring. Look at it at least twice and definitely watch part 2. It will change your view of the matrix. Are the human people the ones who started the war ? Is AI a bad thing ?\n"
     ]
    }
   ],
   "source": [
    "# Sample text\n",
    "text = \"The first time you see The Second Renaissance it may look boring. Look at it at least twice and definitely watch part 2. It will change your view of the matrix. Are the human people the ones who started the war ? Is AI a bad thing ?\"\n",
    "print(text)"
   ]
  },
  {
   "cell_type": "code",
   "execution_count": 11,
   "metadata": {},
   "outputs": [
    {
     "name": "stdout",
     "output_type": "stream",
     "text": [
      "the first time you see the second renaissance it may look boring. look at it at least twice and definitely watch part 2. it will change your view of the matrix. are the human people the ones who started the war ? is ai a bad thing ?\n"
     ]
    }
   ],
   "source": [
    "# Convert to lowercase\n",
    "text = text.lower() \n",
    "print(text)"
   ]
  },
  {
   "cell_type": "markdown",
   "metadata": {},
   "source": [
    "### Punctuation Removal"
   ]
  },
  {
   "cell_type": "code",
   "execution_count": 12,
   "metadata": {},
   "outputs": [
    {
     "name": "stdout",
     "output_type": "stream",
     "text": [
      "the first time you see the second renaissance it may look boring  look at it at least twice and definitely watch part 2  it will change your view of the matrix  are the human people the ones who started the war   is ai a bad thing  \n"
     ]
    }
   ],
   "source": [
    "import re\n",
    "\n",
    "# Remove punctuation characters\n",
    "text = re.sub(r\"[^a-zA-Z0-9]\", \" \", text) \n",
    "print(text)"
   ]
  },
  {
   "cell_type": "markdown",
   "metadata": {},
   "source": [
    "## Tokenization"
   ]
  },
  {
   "cell_type": "code",
   "execution_count": 13,
   "metadata": {},
   "outputs": [
    {
     "name": "stdout",
     "output_type": "stream",
     "text": [
      "['the', 'first', 'time', 'you', 'see', 'the', 'second', 'renaissance', 'it', 'may', 'look', 'boring', 'look', 'at', 'it', 'at', 'least', 'twice', 'and', 'definitely', 'watch', 'part', '2', 'it', 'will', 'change', 'your', 'view', 'of', 'the', 'matrix', 'are', 'the', 'human', 'people', 'the', 'ones', 'who', 'started', 'the', 'war', 'is', 'ai', 'a', 'bad', 'thing']\n"
     ]
    }
   ],
   "source": [
    "# Split text into tokens (words)\n",
    "words = text.split()\n",
    "print(words)"
   ]
  },
  {
   "cell_type": "markdown",
   "metadata": {},
   "source": [
    "### NLTK: Natural Language ToolKit"
   ]
  },
  {
   "cell_type": "code",
   "execution_count": 14,
   "metadata": {},
   "outputs": [],
   "source": [
    "import os\n",
    "import nltk\n",
    "nltk.data.path.append(os.path.join(os.getcwd(), \"nltk_data\"))"
   ]
  },
  {
   "cell_type": "code",
   "execution_count": 15,
   "metadata": {},
   "outputs": [
    {
     "name": "stdout",
     "output_type": "stream",
     "text": [
      "Dr. Smith graduated from the University of Washington. He later started an analytics firm called Lux, which catered to enterprise customers.\n"
     ]
    }
   ],
   "source": [
    "# Another sample text\n",
    "text = \"Dr. Smith graduated from the University of Washington. He later started an analytics firm called Lux, which catered to enterprise customers.\"\n",
    "print(text)"
   ]
  },
  {
   "cell_type": "code",
   "execution_count": 16,
   "metadata": {},
   "outputs": [
    {
     "name": "stdout",
     "output_type": "stream",
     "text": [
      "['Dr.', 'Smith', 'graduated', 'from', 'the', 'University', 'of', 'Washington', '.', 'He', 'later', 'started', 'an', 'analytics', 'firm', 'called', 'Lux', ',', 'which', 'catered', 'to', 'enterprise', 'customers', '.']\n"
     ]
    }
   ],
   "source": [
    "from nltk.tokenize import word_tokenize\n",
    "\n",
    "# Split text into words using NLTK\n",
    "words = word_tokenize(text)\n",
    "print(words)"
   ]
  },
  {
   "cell_type": "code",
   "execution_count": 17,
   "metadata": {},
   "outputs": [
    {
     "name": "stdout",
     "output_type": "stream",
     "text": [
      "['Dr. Smith graduated from the University of Washington.', 'He later started an analytics firm called Lux, which catered to enterprise customers.']\n"
     ]
    }
   ],
   "source": [
    "from nltk.tokenize import sent_tokenize\n",
    "\n",
    "# Split text into sentences\n",
    "sentences = sent_tokenize(text)\n",
    "print(sentences)"
   ]
  },
  {
   "cell_type": "code",
   "execution_count": 18,
   "metadata": {},
   "outputs": [
    {
     "name": "stdout",
     "output_type": "stream",
     "text": [
      "['i', 'me', 'my', 'myself', 'we', 'our', 'ours', 'ourselves', 'you', \"you're\", \"you've\", \"you'll\", \"you'd\", 'your', 'yours', 'yourself', 'yourselves', 'he', 'him', 'his', 'himself', 'she', \"she's\", 'her', 'hers', 'herself', 'it', \"it's\", 'its', 'itself', 'they', 'them', 'their', 'theirs', 'themselves', 'what', 'which', 'who', 'whom', 'this', 'that', \"that'll\", 'these', 'those', 'am', 'is', 'are', 'was', 'were', 'be', 'been', 'being', 'have', 'has', 'had', 'having', 'do', 'does', 'did', 'doing', 'a', 'an', 'the', 'and', 'but', 'if', 'or', 'because', 'as', 'until', 'while', 'of', 'at', 'by', 'for', 'with', 'about', 'against', 'between', 'into', 'through', 'during', 'before', 'after', 'above', 'below', 'to', 'from', 'up', 'down', 'in', 'out', 'on', 'off', 'over', 'under', 'again', 'further', 'then', 'once', 'here', 'there', 'when', 'where', 'why', 'how', 'all', 'any', 'both', 'each', 'few', 'more', 'most', 'other', 'some', 'such', 'no', 'nor', 'not', 'only', 'own', 'same', 'so', 'than', 'too', 'very', 's', 't', 'can', 'will', 'just', 'don', \"don't\", 'should', \"should've\", 'now', 'd', 'll', 'm', 'o', 're', 've', 'y', 'ain', 'aren', \"aren't\", 'couldn', \"couldn't\", 'didn', \"didn't\", 'doesn', \"doesn't\", 'hadn', \"hadn't\", 'hasn', \"hasn't\", 'haven', \"haven't\", 'isn', \"isn't\", 'ma', 'mightn', \"mightn't\", 'mustn', \"mustn't\", 'needn', \"needn't\", 'shan', \"shan't\", 'shouldn', \"shouldn't\", 'wasn', \"wasn't\", 'weren', \"weren't\", 'won', \"won't\", 'wouldn', \"wouldn't\"]\n"
     ]
    }
   ],
   "source": [
    "# List stop words\n",
    "from nltk.corpus import stopwords\n",
    "print(stopwords.words(\"english\"))"
   ]
  },
  {
   "cell_type": "code",
   "execution_count": 19,
   "metadata": {},
   "outputs": [
    {
     "name": "stdout",
     "output_type": "stream",
     "text": [
      "['the', 'first', 'time', 'you', 'see', 'the', 'second', 'renaissance', 'it', 'may', 'look', 'boring', 'look', 'at', 'it', 'at', 'least', 'twice', 'and', 'definitely', 'watch', 'part', '2', 'it', 'will', 'change', 'your', 'view', 'of', 'the', 'matrix', 'are', 'the', 'human', 'people', 'the', 'ones', 'who', 'started', 'the', 'war', 'is', 'ai', 'a', 'bad', 'thing']\n"
     ]
    }
   ],
   "source": [
    "# Reset text\n",
    "text = \"The first time you see The Second Renaissance it may look boring. Look at it at least twice and definitely watch part 2. It will change your view of the matrix. Are the human people the ones who started the war ? Is AI a bad thing ?\"\n",
    "\n",
    "# Normalize it\n",
    "text = re.sub(r\"[^a-zA-Z0-9]\", \" \", text.lower())\n",
    "\n",
    "# Tokenize it\n",
    "words = text.split()\n",
    "print(words)"
   ]
  },
  {
   "cell_type": "code",
   "execution_count": 20,
   "metadata": {},
   "outputs": [
    {
     "name": "stdout",
     "output_type": "stream",
     "text": [
      "['first', 'time', 'see', 'second', 'renaissance', 'may', 'look', 'boring', 'look', 'least', 'twice', 'definitely', 'watch', 'part', '2', 'change', 'view', 'matrix', 'human', 'people', 'ones', 'started', 'war', 'ai', 'bad', 'thing']\n"
     ]
    }
   ],
   "source": [
    "# Remove stop words\n",
    "words = [w for w in words if w not in stopwords.words(\"english\")]\n",
    "print(words)"
   ]
  },
  {
   "cell_type": "markdown",
   "metadata": {},
   "source": [
    "### Sentence Parsing"
   ]
  },
  {
   "cell_type": "code",
   "execution_count": null,
   "metadata": {},
   "outputs": [],
   "source": [
    "import nltk\n",
    "\n",
    "# Define a custom grammar\n",
    "my_grammar = nltk.CFG.fromstring(\"\"\"\n",
    "S -> NP VP\n",
    "PP -> P NP\n",
    "NP -> Det N | Det N PP | 'I'\n",
    "VP -> V NP | VP PP\n",
    "Det -> 'an' | 'my'\n",
    "N -> 'elephant' | 'pajamas'\n",
    "V -> 'shot'\n",
    "P -> 'in'\n",
    "\"\"\")\n",
    "parser = nltk.ChartParser(my_grammar)\n",
    "\n",
    "# Parse a sentence\n",
    "sentence = word_tokenize(\"I shot an elephant in my pajamas\")\n",
    "for tree in parser.parse(sentence):\n",
    "    print(tree)"
   ]
  },
  {
   "cell_type": "markdown",
   "metadata": {},
   "source": [
    "## Stemming & Lemmatization\n",
    "\n",
    "### Stemming"
   ]
  },
  {
   "cell_type": "code",
   "execution_count": null,
   "metadata": {},
   "outputs": [],
   "source": [
    "from nltk.stem.porter import PorterStemmer\n",
    "\n",
    "# Reduce words to their stems\n",
    "stemmed = [PorterStemmer().stem(w) for w in words]\n",
    "print(stemmed)"
   ]
  },
  {
   "cell_type": "markdown",
   "metadata": {},
   "source": [
    "### Lemmatization"
   ]
  },
  {
   "cell_type": "code",
   "execution_count": null,
   "metadata": {},
   "outputs": [],
   "source": [
    "from nltk.stem.wordnet import WordNetLemmatizer\n",
    "\n",
    "# Reduce words to their root form\n",
    "lemmed = [WordNetLemmatizer().lemmatize(w) for w in words]\n",
    "print(lemmed)"
   ]
  },
  {
   "cell_type": "code",
   "execution_count": null,
   "metadata": {},
   "outputs": [],
   "source": [
    "# Lemmatize verbs by specifying pos\n",
    "lemmed = [WordNetLemmatizer().lemmatize(w, pos='v') for w in lemmed]\n",
    "print(lemmed)"
   ]
  },
  {
   "cell_type": "code",
   "execution_count": null,
   "metadata": {},
   "outputs": [],
   "source": []
  }
 ],
 "metadata": {
  "kernelspec": {
   "display_name": "Python 3",
   "language": "python",
   "name": "python3"
  },
  "language_info": {
   "codemirror_mode": {
    "name": "ipython",
    "version": 3
   },
   "file_extension": ".py",
   "mimetype": "text/x-python",
   "name": "python",
   "nbconvert_exporter": "python",
   "pygments_lexer": "ipython3",
   "version": "3.6.3"
  }
 },
 "nbformat": 4,
 "nbformat_minor": 2
}
